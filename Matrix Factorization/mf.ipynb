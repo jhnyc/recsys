{
 "cells": [
  {
   "attachments": {},
   "cell_type": "markdown",
   "metadata": {},
   "source": [
    "Vanilla Matrix Factorization\n",
    "- the simplest & earliest form of collaborative filtering model, included here for completeness & baseline purposes\n",
    "- the idea is that a user-item interaction matrix can be factorized into 2 lower rank matrices that represent the latent factors of the users & items\n",
    "- multiplying the two latent matrices will (sort of) reconstruct the original interaction matrix as well as give predictions on other unseen user/item pairs, which is what we want\n",
    "- turns out matrix factorization can be framed like a trivial neural network problem, where we are estimating the embeddings with our familiar gradient descent & back propagation algorithm\n",
    "- what that means is we can easily implement it using our favourite DL framework\n",
    "- other matrix factorization algorithms include Alternating Least Square (ALS), SVD++\n"
   ]
  },
  {
   "cell_type": "code",
   "execution_count": null,
   "metadata": {},
   "outputs": [],
   "source": [
    "import torch\n",
    "import torch.nn as nn\n",
    "\n",
    "class MF(nn.Module):\n",
    "    def __init__(self, n_users, n_items, embed_dim):\n",
    "        super.__init__()\n",
    "        # one embedding layer to store user & item embeddings\n",
    "        self.embedding = nn.Embedding(n_users+n_items, embed_dim)\n",
    "        \n",
    "    def forward(self, x):\n",
    "        # input x: [user_id, item_id]\n",
    "        user_embed = self.embedding(x[:, 0])\n",
    "        item_embed = self.embedding(x[:, 1])\n",
    "        return (user_embed * item_embed).sum(dim=1)\n",
    "    \n",
    "    def predict(self, x):\n",
    "        self.eval()\n",
    "        with torch.no_grad():\n",
    "            return self.forward(x)"
   ]
  }
 ],
 "metadata": {
  "kernelspec": {
   "display_name": "Python 3.9.12 ('base')",
   "language": "python",
   "name": "python3"
  },
  "language_info": {
   "name": "python",
   "version": "3.9.12 (main, Apr  5 2022, 01:53:17) \n[Clang 12.0.0 ]"
  },
  "orig_nbformat": 4,
  "vscode": {
   "interpreter": {
    "hash": "2d59829e856ecc8da3b928adad583801194efdadc7aa71fa7c39d3d39c851f1a"
   }
  }
 },
 "nbformat": 4,
 "nbformat_minor": 2
}
