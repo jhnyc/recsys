{
 "cells": [
  {
   "cell_type": "markdown",
   "metadata": {},
   "source": [
    "Deep Factorization Machines\n",
    "- as its name suggests, there is a FM component & a Deep component\n",
    "- FM: model 2-way interaction\n",
    "- Deep MLP: capture complex feature interactions & non-linearities\n",
    "- similar to Wide & Deep, which consists of a linear (wide) and mlp (deep) layer, except the wide layer is the FM layer\n",
    "\n",
    "The model architecture is nicely illustrated here (image by d21.ai):\n",
    "\n",
    "<img src=\"model_illustration.png\" style=\"width:80%\">"
   ]
  },
  {
   "cell_type": "code",
   "execution_count": 4,
   "metadata": {},
   "outputs": [],
   "source": [
    "import numpy as np\n",
    "import torch\n",
    "import torch.nn as nn"
   ]
  },
  {
   "cell_type": "code",
   "execution_count": null,
   "metadata": {},
   "outputs": [],
   "source": [
    "class DeepFM(nn.module):\n",
    "    def __init__(self, n_fields, n_features, embed_dim, mlp_dims=[128, 64], dropout=0.2):\n",
    "        super().__init__()\n",
    "        self.embedding = nn.Embedding(n_features, embed_dim)\n",
    "        self.fc = nn.Embedding(n_features, 1)\n",
    "        self.bias = nn.Parameter(torch.zeros((1,0)))\n",
    "        self.mlp_input_dim = n_fields * embed_dim\n",
    "        input_dim = self.mlp_input_dim\n",
    "        mlp_layers = []\n",
    "        for dim in mlp_dims:\n",
    "            mlp_layers.append(nn.Linear(input_dim, dim))\n",
    "            mlp_layers.append(nn.BatchNorm1d(dim))\n",
    "            mlp_layers.append(nn.ReLU())\n",
    "            mlp_layers.append(nn.Dropout(dropout))\n",
    "            input_dim = dim\n",
    "        mlp_layers.append(nn.Linear(mlp_input_dim, 1))\n",
    "        self.mlp = nn.Sequential(*mlp_layers)\n",
    "        \n",
    "        \n",
    "    def factorization_machine(self, x):\n",
    "        first_order = self.fc(x).sum(dim=1) + self.bias\n",
    "        sq_sum = self.embedding(x).sum(dim=1)**2\n",
    "        sum_sq = (self.embedding(x)**2).sum(dim=1)\n",
    "        second_order = 0.5 * (sq_sum - sum_sq).sum(dim=1, keepdim=True)\n",
    "        return first_order + second_order\n",
    "    \n",
    "    def forward(self, x):\n",
    "        fm_out = self.factorization_machine(x)\n",
    "        mlp_input = self.embedding(x).view(-1, self.mlp_input_dim)\n",
    "        mlp_out = self.mlp(mlp_input)\n",
    "        return torch.sigmoid(fm_out + mlp_out)\n",
    "    \n",
    "    def predict(self, x):\n",
    "        self.eval()\n",
    "        with torch.no_grad():\n",
    "            return self.forward(x)\n",
    "            \n",
    "            \n",
    "           \n",
    "        "
   ]
  },
  {
   "cell_type": "code",
   "execution_count": 3,
   "metadata": {},
   "outputs": [
    {
     "data": {
      "text/plain": [
       "tensor([[1, 2, 3, 4, 5, 6],\n",
       "        [1, 2, 3, 4, 5, 6]])"
      ]
     },
     "execution_count": 3,
     "metadata": {},
     "output_type": "execute_result"
    }
   ],
   "source": [
    "t = [\n",
    "    [[1,2,3], [4,5,6]],\n",
    "    [[1,2,3], [4,5,6]],\n",
    "]\n",
    "\n",
    "torch.tensor(t).view(-1,6)"
   ]
  },
  {
   "cell_type": "markdown",
   "metadata": {},
   "source": []
  }
 ],
 "metadata": {
  "kernelspec": {
   "display_name": "Python 3.9.12 ('base')",
   "language": "python",
   "name": "python3"
  },
  "language_info": {
   "codemirror_mode": {
    "name": "ipython",
    "version": 3
   },
   "file_extension": ".py",
   "mimetype": "text/x-python",
   "name": "python",
   "nbconvert_exporter": "python",
   "pygments_lexer": "ipython3",
   "version": "3.9.12"
  },
  "orig_nbformat": 4,
  "vscode": {
   "interpreter": {
    "hash": "2d59829e856ecc8da3b928adad583801194efdadc7aa71fa7c39d3d39c851f1a"
   }
  }
 },
 "nbformat": 4,
 "nbformat_minor": 2
}
