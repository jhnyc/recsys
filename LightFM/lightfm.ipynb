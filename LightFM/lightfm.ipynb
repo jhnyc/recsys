{
 "cells": [
  {
   "cell_type": "code",
   "execution_count": 6,
   "metadata": {},
   "outputs": [],
   "source": [
    "import pandas as pd\n",
    "import numpy as np\n",
    "import matplotlib.pyplot as plt\n",
    "from lightfm import LightFM\n",
    "import math\n",
    "import re"
   ]
  },
  {
   "cell_type": "code",
   "execution_count": 2,
   "metadata": {},
   "outputs": [],
   "source": [
    "# read data\n",
    "rating = pd.read_csv(\"../data/movielens/ratings.csv\")\n",
    "movie = pd.read_csv(\"../data/movielens/movies.csv\")\n",
    "tag = pd.read_csv(\"../data/movielens/tags.csv\")"
   ]
  },
  {
   "cell_type": "code",
   "execution_count": 3,
   "metadata": {},
   "outputs": [
    {
     "data": {
      "text/html": [
       "<div>\n",
       "<style scoped>\n",
       "    .dataframe tbody tr th:only-of-type {\n",
       "        vertical-align: middle;\n",
       "    }\n",
       "\n",
       "    .dataframe tbody tr th {\n",
       "        vertical-align: top;\n",
       "    }\n",
       "\n",
       "    .dataframe thead th {\n",
       "        text-align: right;\n",
       "    }\n",
       "</style>\n",
       "<table border=\"1\" class=\"dataframe\">\n",
       "  <thead>\n",
       "    <tr style=\"text-align: right;\">\n",
       "      <th></th>\n",
       "      <th>movieId</th>\n",
       "      <th>title</th>\n",
       "      <th>genres</th>\n",
       "    </tr>\n",
       "  </thead>\n",
       "  <tbody>\n",
       "    <tr>\n",
       "      <th>0</th>\n",
       "      <td>1</td>\n",
       "      <td>Toy Story (1995)</td>\n",
       "      <td>Adventure|Animation|Children|Comedy|Fantasy</td>\n",
       "    </tr>\n",
       "    <tr>\n",
       "      <th>1</th>\n",
       "      <td>2</td>\n",
       "      <td>Jumanji (1995)</td>\n",
       "      <td>Adventure|Children|Fantasy</td>\n",
       "    </tr>\n",
       "    <tr>\n",
       "      <th>2</th>\n",
       "      <td>3</td>\n",
       "      <td>Grumpier Old Men (1995)</td>\n",
       "      <td>Comedy|Romance</td>\n",
       "    </tr>\n",
       "    <tr>\n",
       "      <th>3</th>\n",
       "      <td>4</td>\n",
       "      <td>Waiting to Exhale (1995)</td>\n",
       "      <td>Comedy|Drama|Romance</td>\n",
       "    </tr>\n",
       "    <tr>\n",
       "      <th>4</th>\n",
       "      <td>5</td>\n",
       "      <td>Father of the Bride Part II (1995)</td>\n",
       "      <td>Comedy</td>\n",
       "    </tr>\n",
       "  </tbody>\n",
       "</table>\n",
       "</div>"
      ],
      "text/plain": [
       "   movieId                               title  \\\n",
       "0        1                    Toy Story (1995)   \n",
       "1        2                      Jumanji (1995)   \n",
       "2        3             Grumpier Old Men (1995)   \n",
       "3        4            Waiting to Exhale (1995)   \n",
       "4        5  Father of the Bride Part II (1995)   \n",
       "\n",
       "                                        genres  \n",
       "0  Adventure|Animation|Children|Comedy|Fantasy  \n",
       "1                   Adventure|Children|Fantasy  \n",
       "2                               Comedy|Romance  \n",
       "3                         Comedy|Drama|Romance  \n",
       "4                                       Comedy  "
      ]
     },
     "execution_count": 3,
     "metadata": {},
     "output_type": "execute_result"
    }
   ],
   "source": [
    "movie.head()"
   ]
  },
  {
   "cell_type": "markdown",
   "metadata": {},
   "source": [
    "### Preprocessing - Features"
   ]
  },
  {
   "cell_type": "code",
   "execution_count": 8,
   "metadata": {},
   "outputs": [
    {
     "name": "stdout",
     "output_type": "stream",
     "text": [
      "Big Bang Theory, The (2007-)\n",
      "Fawlty Towers (1975-1979)\n",
      "Hyena Road\n",
      "The Lovers and the Despot\n",
      "Stranger Things\n",
      "Women of '69, Unboxed\n"
     ]
    }
   ],
   "source": [
    "# extract year\n",
    "def extract_year(s):\n",
    "    try:\n",
    "        return int(re.findall('\\(([0-9]+)\\)', s)[-1])\n",
    "    except:\n",
    "        print(s)\n",
    "        return 'UNKNOWN'\n",
    "movie['year'] = movie.title.apply(lambda x: extract_year(x))"
   ]
  },
  {
   "cell_type": "code",
   "execution_count": 12,
   "metadata": {},
   "outputs": [],
   "source": [
    "# manually impute year\n",
    "years = {\"Big Bang Theory, The (2007-)\": 2010,\n",
    "\"Fawlty Towers (1975-1979)\": 1970,\n",
    "\"Hyena Road\": 2010,\n",
    "\"The Lovers and the Despot\": 2016,\n",
    "\"Stranger Things\": 2010,\n",
    "\"Women of '69, Unboxed\": 2010}\n",
    "\n",
    "for ix, row in movie.iterrows():\n",
    "    if row['title'] in years:\n",
    "        movie.at[ix, 'year'] = years[row['title']]"
   ]
  },
  {
   "cell_type": "code",
   "execution_count": 14,
   "metadata": {},
   "outputs": [],
   "source": [
    "# convert year to decades\n",
    "movie['decade'] = movie['year'].apply(lambda x: math.floor(x/10)*10)"
   ]
  },
  {
   "cell_type": "code",
   "execution_count": 15,
   "metadata": {},
   "outputs": [],
   "source": [
    "# extract genre\n",
    "movie['genres'] = movie['genres'].replace('(no genres listed)', \"NULL\")\n",
    "movie['genres'] = movie['genres'].apply(lambda x: x.split(\"|\"))"
   ]
  },
  {
   "cell_type": "code",
   "execution_count": 71,
   "metadata": {},
   "outputs": [],
   "source": [
    "# combine all features & one-hot-encode\n",
    "movie_features = movie.apply(lambda x: x['genres'] + [x['decade']], axis=1)\n"
   ]
  },
  {
   "cell_type": "markdown",
   "metadata": {},
   "source": [
    "### Preprocessing - User-Item Interaction"
   ]
  },
  {
   "cell_type": "code",
   "execution_count": 18,
   "metadata": {},
   "outputs": [],
   "source": [
    "# map movieid & userid to new ids\n",
    "movie_id_mapping = {i:ix for ix, i in enumerate(movie.movieId)}\n",
    "user_id_mapping = {i:ix for ix, i in enumerate(rating.userId.unique())}\n",
    "rating['userId'] = rating['userId'].apply(lambda x: user_id_mapping[x])\n",
    "rating['movieId'] = rating['movieId'].apply(lambda x: movie_id_mapping[x])"
   ]
  },
  {
   "cell_type": "code",
   "execution_count": 20,
   "metadata": {},
   "outputs": [],
   "source": [
    "# convert explicit rating to implicit feedback\n",
    "threshold = 3\n",
    "rating['rating'] = rating['rating'].apply(lambda x: 0 if x < threshold else 1) "
   ]
  },
  {
   "cell_type": "markdown",
   "metadata": {},
   "source": [
    "# Build dataset - Interaction Matrix, Feature Matrix"
   ]
  },
  {
   "cell_type": "code",
   "execution_count": 73,
   "metadata": {},
   "outputs": [],
   "source": [
    "from lightfm.data import Dataset\n",
    "\n",
    "dataset = Dataset()\n",
    "dataset.fit(\n",
    "    users=set(rating['userId']),\n",
    "    items=movie_id_mapping.values(),\n",
    "    item_features=set([f for features in movie_features for f in features])\n",
    ")\n"
   ]
  },
  {
   "cell_type": "code",
   "execution_count": 74,
   "metadata": {},
   "outputs": [],
   "source": [
    "# build interactions matrix from (user_id, item_id) or (user_id, item_id, weight)\n",
    "iteraction_tuples = rating[rating['rating']==1][['userId', 'movieId']].apply(tuple, axis=1).to_list()\n",
    "interactions, weights = dataset.build_interactions(iteraction_tuples)"
   ]
  },
  {
   "cell_type": "code",
   "execution_count": 76,
   "metadata": {},
   "outputs": [],
   "source": [
    "# build item features from (item id, [list of feature names]) or (item id, {feature name: feature weight})\n",
    "feature_tuples = list(enumerate(movie_features))\n",
    "item_features = dataset.build_item_features(feature_tuples)"
   ]
  },
  {
   "cell_type": "markdown",
   "metadata": {},
   "source": [
    "# Model"
   ]
  },
  {
   "cell_type": "code",
   "execution_count": 79,
   "metadata": {},
   "outputs": [
    {
     "name": "stderr",
     "output_type": "stream",
     "text": [
      "Epoch: 100%|██████████| 20/20 [00:07<00:00,  2.51it/s]\n"
     ]
    },
    {
     "data": {
      "text/plain": [
       "<lightfm.lightfm.LightFM at 0x7f9e209abd90>"
      ]
     },
     "execution_count": 79,
     "metadata": {},
     "output_type": "execute_result"
    }
   ],
   "source": [
    "model = LightFM(\n",
    "    no_components=200, # embedding dims\n",
    "    learning_rate=0.05,\n",
    "    loss='warp'    \n",
    ")\n",
    "\n",
    "model.fit(interactions, \n",
    "          item_features=item_features,\n",
    "          epochs=20,\n",
    "          num_threads=4,\n",
    "          verbose=True)"
   ]
  },
  {
   "cell_type": "markdown",
   "metadata": {},
   "source": [
    "# Evaluation"
   ]
  },
  {
   "cell_type": "code",
   "execution_count": 81,
   "metadata": {},
   "outputs": [],
   "source": [
    "from lightfm.evaluation import auc_score"
   ]
  },
  {
   "cell_type": "markdown",
   "metadata": {},
   "source": [
    "roc/auc: the probability that a randomly chosen positive example has a higher score than a randomly chosen negative example."
   ]
  },
  {
   "cell_type": "code",
   "execution_count": 82,
   "metadata": {},
   "outputs": [],
   "source": [
    "auc_scores = auc_score(model, \n",
    "                    test_interactions=interactions, \n",
    "                    item_features=item_features,\n",
    "                    num_threads=4)"
   ]
  },
  {
   "cell_type": "code",
   "execution_count": 83,
   "metadata": {},
   "outputs": [
    {
     "data": {
      "text/plain": [
       "array([0.97538936, 0.9947653 , 0.949396  , 0.9849852 , 0.9853942 ,\n",
       "       0.9777733 , 0.9908762 , 0.98355365, 0.97805727, 0.9689699 ,\n",
       "       0.958389  , 0.9448924 , 0.97703576, 0.98695457, 0.9902244 ,\n",
       "       0.9790397 , 0.98421156, 0.99252945, 0.9893276 , 0.96330225,\n",
       "       0.98676604, 0.98534805, 0.9802795 , 0.9939064 , 0.9870993 ,\n",
       "       0.98657703, 0.99190557, 0.984891  , 0.9621694 , 0.9930819 ,\n",
       "       0.971728  , 0.9963636 , 0.97870487, 0.9874509 , 0.98038423,\n",
       "       0.9902052 , 0.97637933, 0.97134405, 0.9946865 , 0.99354464,\n",
       "       0.98418766, 0.9956515 , 0.97438705, 0.99484676, 0.9658105 ,\n",
       "       0.9377263 , 0.99767464, 0.98657876, 0.9886416 , 0.9979028 ,\n",
       "       0.9562175 , 0.9787872 , 0.9624948 , 0.9405936 , 0.9950117 ,\n",
       "       0.97256184, 0.9838564 , 0.9680385 , 0.97934234, 0.96774447,\n",
       "       0.9773135 , 0.98989815, 0.98132455, 0.9981988 , 0.9960673 ,\n",
       "       0.991018  , 0.9877294 , 0.97643065, 0.9891365 , 0.98873425,\n",
       "       0.9671357 , 0.9924924 , 0.9928606 , 0.9818546 , 0.9636128 ,\n",
       "       0.9227287 , 0.9820531 , 0.97142833, 0.98371977, 0.9900826 ,\n",
       "       0.9862815 , 0.99817395, 0.9712808 , 0.986721  , 0.9955918 ,\n",
       "       0.9939278 , 0.9918134 , 0.98215693, 0.9832432 , 0.9798482 ,\n",
       "       0.9791625 , 0.9955272 , 0.9855101 , 0.9812725 , 0.981507  ,\n",
       "       0.9835259 , 0.9879043 , 0.98036855, 0.9817278 , 0.99395204,\n",
       "       0.9876013 , 0.9886543 , 0.9807758 , 0.9865994 , 0.9775371 ,\n",
       "       0.9768425 , 0.9855629 , 0.9985437 , 0.9878861 , 0.9954911 ,\n",
       "       0.969721  , 0.9936538 , 0.9888131 , 0.99749565, 0.989897  ,\n",
       "       0.99212205, 0.98147583, 0.97759026, 0.97436976, 0.9868463 ,\n",
       "       0.99378407, 0.9924839 , 0.9832924 , 0.9877735 , 0.98366314,\n",
       "       0.99674255, 0.9967884 , 0.9815596 , 0.9702646 , 0.98366535,\n",
       "       0.96209747, 0.9701818 , 0.98116624, 0.97661746, 0.9825321 ,\n",
       "       0.9807872 , 0.9870372 , 0.99275976, 0.9702985 , 0.9711915 ,\n",
       "       0.99234766, 0.95671856, 0.97958153, 0.9984724 , 0.99906594,\n",
       "       0.9797198 , 0.9742229 , 0.9659347 , 0.9779855 , 0.9755144 ,\n",
       "       0.99840605, 0.9874078 , 0.9575895 , 0.9861564 , 0.99236417,\n",
       "       0.9640809 , 0.97341293, 0.9445176 , 0.96912545, 0.9873649 ,\n",
       "       0.99731445, 0.99190855, 0.9741165 , 0.98058134, 0.96862346,\n",
       "       0.9740755 , 0.98764026, 0.98339677, 0.9822445 , 0.9780259 ,\n",
       "       0.98733586, 0.9938421 , 0.98192054, 0.96803695, 0.96484035,\n",
       "       0.97474253, 0.9864565 , 0.97764105, 0.9929108 , 0.98663366,\n",
       "       0.98515767, 0.9933501 , 0.9889113 , 0.99623823, 0.9881864 ,\n",
       "       0.9783693 , 0.9734886 , 0.9934441 , 0.97654825, 0.9746752 ,\n",
       "       0.9988036 , 0.997379  , 0.97894955, 0.99800766, 0.98040223,\n",
       "       0.9488355 , 0.9935521 , 0.9811407 , 0.9755798 , 0.96802086,\n",
       "       0.9655653 , 0.9720359 , 0.9733066 , 0.9550983 , 0.98301065,\n",
       "       0.9933651 , 0.95999837, 0.96334314, 0.9852219 , 0.98428833,\n",
       "       0.98108155, 0.9737066 , 0.9855043 , 0.9870444 , 0.9885779 ,\n",
       "       0.9842054 , 0.98024416, 0.97693884, 0.9792927 , 0.96664363,\n",
       "       0.98847795, 0.9715503 , 0.9934341 , 0.99341893, 0.9986102 ,\n",
       "       0.96306866, 0.96350366, 0.9911739 , 0.96350765, 0.9865599 ,\n",
       "       0.98980665, 0.9865506 , 0.99000615, 0.9729385 , 0.98093873,\n",
       "       0.977393  , 0.9882904 , 0.99062115, 0.98614657, 0.9787314 ,\n",
       "       0.9957034 , 0.98641235, 0.9765213 , 0.9801031 , 0.9744898 ,\n",
       "       0.98943335, 0.98804706, 0.9869401 , 0.99764746, 0.9802192 ,\n",
       "       0.9849355 , 0.9917446 , 0.9835741 , 0.98504394, 0.9744692 ,\n",
       "       0.99648786, 0.9782383 , 0.9692175 , 0.9875837 , 0.9604327 ,\n",
       "       0.98992854, 0.9873642 , 0.9656514 , 0.987561  , 0.98430276,\n",
       "       0.9980451 , 0.9812601 , 0.98242944, 0.9708866 , 0.9771229 ,\n",
       "       0.99135756, 0.9910575 , 0.98410547, 0.98271215, 0.97378004,\n",
       "       0.98019665, 0.9787175 , 0.9771427 , 0.9980128 , 0.98174417,\n",
       "       0.97522646, 0.990475  , 0.97949654, 0.99329776, 0.9829552 ,\n",
       "       0.9630844 , 0.9760481 , 0.99651664, 0.965033  , 0.9661015 ,\n",
       "       0.96722263, 0.9791413 , 0.95150346, 0.99244314, 0.97999555,\n",
       "       0.96672887, 0.97456664, 0.971835  , 0.9850402 , 0.9907639 ,\n",
       "       0.88857245, 0.9943738 , 0.9829065 , 0.9575579 , 0.98377925,\n",
       "       0.9828734 , 0.9830049 , 0.9893112 , 0.98104143, 0.97900903,\n",
       "       0.9899425 , 0.9773875 , 0.9756336 , 0.9943948 , 0.9663864 ,\n",
       "       0.98615587, 0.9988383 , 0.98113734, 0.9966881 , 0.988263  ,\n",
       "       0.9811296 , 0.9759766 , 0.9840835 , 0.97206914, 0.9751701 ,\n",
       "       0.9878755 , 0.9756022 , 0.98058456, 0.9957306 , 0.9738877 ,\n",
       "       0.95489293, 0.99280274, 0.97014695, 0.9887714 , 0.9842601 ,\n",
       "       0.9876165 , 0.9988041 , 0.9980842 , 0.972755  , 0.9762661 ,\n",
       "       0.9813945 , 0.98042333, 0.97910815, 0.98560065, 0.97656995,\n",
       "       0.9833289 , 0.992562  , 0.9831972 , 0.96599674, 0.9695801 ,\n",
       "       0.9605902 , 0.98762035, 0.98083556, 0.99485534, 0.9861027 ,\n",
       "       0.9800926 , 0.99511814, 0.9855158 , 0.9527112 , 0.99351335,\n",
       "       0.98860806, 0.97357047, 0.9845491 , 0.9652911 , 0.9633742 ,\n",
       "       0.97886914, 0.9678435 , 0.9842285 , 0.9984264 , 0.97020143,\n",
       "       0.97768736, 0.9922228 , 0.9836944 , 0.9553261 , 0.99915266,\n",
       "       0.98209614, 0.9621232 , 0.9795344 , 0.9815936 , 0.9799103 ,\n",
       "       0.9668048 , 0.9907563 , 0.98561305, 0.97443223, 0.9968105 ,\n",
       "       0.9758028 , 0.9859118 , 0.9724575 , 0.99485415, 0.987463  ,\n",
       "       0.98137707, 0.96816635, 0.94980603, 0.9738766 , 0.99748874,\n",
       "       0.99104935, 0.95876396, 0.9816214 , 0.9970948 , 0.9981035 ,\n",
       "       0.9878805 , 0.9747902 , 0.99451977, 0.94532317, 0.9786982 ,\n",
       "       0.97512686, 0.97531116, 0.97045654, 0.9936977 , 0.9977794 ,\n",
       "       0.9759443 , 0.98266464, 0.99351865, 0.9251077 , 0.99896014,\n",
       "       0.993373  , 0.9752962 , 0.97970665, 0.97780466, 0.9861169 ,\n",
       "       0.9976127 , 0.97992814, 0.9737985 , 0.9784913 , 0.9888479 ,\n",
       "       0.9753093 , 0.97876936, 0.98706514, 0.99042714, 0.97489125,\n",
       "       0.9756257 , 0.98582464, 0.9853467 , 0.98209065, 0.9882492 ,\n",
       "       0.9899473 , 0.9946171 , 0.9926799 , 0.97514904, 0.99569684,\n",
       "       0.96776325, 0.979537  , 0.9897989 , 0.9656315 , 0.93961215,\n",
       "       0.9911824 , 0.9956893 , 0.9993027 , 0.9986357 , 0.97834104,\n",
       "       0.98093325, 0.99241245, 0.9830542 , 0.9975941 , 0.99367136,\n",
       "       0.99106234, 0.9794052 , 0.9913657 , 0.99476117, 0.97286403,\n",
       "       0.9747424 , 0.9883928 , 0.9775179 , 0.9942093 , 0.9545942 ,\n",
       "       0.9820656 , 0.97154754, 0.9862052 , 0.9600512 , 0.9727675 ,\n",
       "       0.9726754 , 0.97999245, 0.9645546 , 0.9758504 , 0.98422104,\n",
       "       0.9882809 , 0.98731667, 0.98855525, 0.97718745, 0.970121  ,\n",
       "       0.9842636 , 0.9937538 , 0.99086666, 0.9944853 , 0.9499671 ,\n",
       "       0.97398007, 0.9934675 , 0.954937  , 0.9833472 , 0.9963371 ,\n",
       "       0.9798692 , 0.9887214 , 0.9780941 , 0.9852442 , 0.9987164 ,\n",
       "       0.9947551 , 0.9889446 , 0.98302954, 0.9946602 , 0.98016536,\n",
       "       0.9810037 , 0.9798648 , 0.99085593, 0.96532464, 0.97598374,\n",
       "       0.9944042 , 0.99386394, 0.99697816, 0.98234236, 0.97865576,\n",
       "       0.9952648 , 0.9822549 , 0.9986418 , 0.98726904, 0.9577044 ,\n",
       "       0.988959  , 0.9977151 , 0.98577297, 0.9849648 , 0.98436594,\n",
       "       0.9761291 , 0.9681474 , 0.9750058 , 0.9599982 , 0.9851738 ,\n",
       "       0.9899448 , 0.97675216, 0.9617834 , 0.98004884, 0.9892033 ,\n",
       "       0.9754068 , 0.9714367 , 0.98079234, 0.9873928 , 0.997412  ,\n",
       "       0.9874824 , 0.9901097 , 0.9957357 , 0.9805473 , 0.95863986,\n",
       "       0.98443246, 0.9804873 , 0.98966783, 0.985365  , 0.9854189 ,\n",
       "       0.96609175, 0.9994071 , 0.99319714, 0.9838417 , 0.98665476,\n",
       "       0.9862178 , 0.99045897, 0.98989576, 0.9651874 , 0.9925368 ,\n",
       "       0.9987692 , 0.97141975, 0.95452565, 0.9806206 , 0.9639069 ,\n",
       "       0.98183674, 0.98969764, 0.9789215 , 0.9984388 , 0.98873633,\n",
       "       0.96701884, 0.99388736, 0.9987866 , 0.9869939 , 0.9821178 ,\n",
       "       0.9471233 , 0.97416097, 0.97434306, 0.97648805, 0.9820798 ,\n",
       "       0.975697  , 0.9747296 , 0.9872268 , 0.9603936 , 0.9790955 ,\n",
       "       0.95802647, 0.9774674 , 0.9979771 , 0.97190464, 0.9881218 ,\n",
       "       0.9865366 , 0.984799  , 0.9976703 , 0.9978004 , 0.9975844 ,\n",
       "       0.985664  , 0.97740847, 0.9921462 , 0.9865838 , 0.98911816,\n",
       "       0.9736294 , 0.9884747 , 0.9776571 , 0.9824584 , 0.99328727,\n",
       "       0.95712435, 0.992471  , 0.98865104, 0.9733377 , 0.974831  ,\n",
       "       0.9622674 , 0.98339885, 0.9816886 , 0.935621  , 0.9771025 ,\n",
       "       0.97142017, 0.9755068 , 0.97407347, 0.9710118 , 0.97559977,\n",
       "       0.9904979 , 0.989094  , 0.9714466 , 0.9940633 , 0.9821281 ,\n",
       "       0.9751804 , 0.98642856, 0.9812241 , 0.99360836, 0.97742516,\n",
       "       0.97282565, 0.982857  , 0.96224785, 0.99341434, 0.98329204,\n",
       "       0.97782236, 0.9520224 , 0.9978543 , 0.9852591 , 0.9956406 ,\n",
       "       0.98969424, 0.9718314 , 0.98442453, 0.99245626, 0.9862042 ,\n",
       "       0.99319917, 0.9777507 , 0.9920661 , 0.9852118 , 0.95900196,\n",
       "       0.9814531 , 0.9840319 , 0.98294157, 0.994988  , 0.99220926,\n",
       "       0.98729575, 0.9778229 , 0.9817054 , 0.98324466, 0.96860385,\n",
       "       0.9647485 , 0.9987738 , 0.9833096 , 0.9921497 , 0.9902726 ,\n",
       "       0.9711862 , 0.9970007 , 0.98642284, 0.98507273, 0.975506  ,\n",
       "       0.99614936, 0.993668  , 0.9721948 , 0.9769873 , 0.98838437,\n",
       "       0.98825026], dtype=float32)"
      ]
     },
     "execution_count": 83,
     "metadata": {},
     "output_type": "execute_result"
    }
   ],
   "source": [
    "# auc scores for every user\n",
    "# if no interaction for the user, then auc=0.5, i.e. random guessing\n",
    "auc_scores"
   ]
  },
  {
   "cell_type": "code",
   "execution_count": 84,
   "metadata": {},
   "outputs": [
    {
     "data": {
      "text/plain": [
       "0.98141104"
      ]
     },
     "execution_count": 84,
     "metadata": {},
     "output_type": "execute_result"
    }
   ],
   "source": [
    "# mean auc\n",
    "np.mean(auc_scores)"
   ]
  },
  {
   "cell_type": "code",
   "execution_count": null,
   "metadata": {},
   "outputs": [],
   "source": []
  }
 ],
 "metadata": {
  "kernelspec": {
   "display_name": "Python 3.9.12 ('base')",
   "language": "python",
   "name": "python3"
  },
  "language_info": {
   "codemirror_mode": {
    "name": "ipython",
    "version": 3
   },
   "file_extension": ".py",
   "mimetype": "text/x-python",
   "name": "python",
   "nbconvert_exporter": "python",
   "pygments_lexer": "ipython3",
   "version": "3.9.12"
  },
  "orig_nbformat": 4,
  "vscode": {
   "interpreter": {
    "hash": "2d59829e856ecc8da3b928adad583801194efdadc7aa71fa7c39d3d39c851f1a"
   }
  }
 },
 "nbformat": 4,
 "nbformat_minor": 2
}
