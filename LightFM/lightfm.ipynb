{
 "cells": [
  {
   "cell_type": "markdown",
   "metadata": {},
   "source": [
    "LightFM \n",
    "- hybrid recommender system that unites the advantages of content-based and collaborative recommenders\n",
    "- matrix factorization model that represents users and items as **linear combinations** of their latent content feature representations (embeddings)\n",
    "  - **feature embeddings are summed together** to produce a representation of the user/item\n",
    "  - e.g. gender [0.1, 0.1, 0.6] + preference for action movie [0.6, 0.3, 0.2] -> user representation [0.7, 0.4, 0.8]\n",
    "- user & item embeddings are learned during training to encode about users' preference on items and semantic information about the items\n",
    "  - dot product of user & item embeddings to produce a score for each user/item pair (adjusted by a bias term)\n",
    "- outperforms pure collaborative matrix factorization model in terms of handling cold-start problems as it can make content/feature-based recommendations when lacking interaction data"
   ]
  },
  {
   "cell_type": "code",
   "execution_count": 1,
   "metadata": {},
   "outputs": [
    {
     "name": "stderr",
     "output_type": "stream",
     "text": [
      "/Users/Johnny/opt/anaconda3/lib/python3.9/site-packages/lightfm/_lightfm_fast.py:9: UserWarning: LightFM was compiled without OpenMP support. Only a single thread will be used.\n",
      "  warnings.warn(\n"
     ]
    }
   ],
   "source": [
    "import pandas as pd\n",
    "import numpy as np\n",
    "from lightfm import LightFM\n",
    "import math\n",
    "import re"
   ]
  },
  {
   "cell_type": "code",
   "execution_count": 2,
   "metadata": {},
   "outputs": [],
   "source": [
    "# read data\n",
    "rating = pd.read_csv(\"../data/movielens/ratings.csv\")\n",
    "movie = pd.read_csv(\"../data/movielens/movies.csv\")\n",
    "tag = pd.read_csv(\"../data/movielens/tags.csv\")"
   ]
  },
  {
   "cell_type": "code",
   "execution_count": 3,
   "metadata": {},
   "outputs": [
    {
     "data": {
      "text/html": [
       "<div>\n",
       "<style scoped>\n",
       "    .dataframe tbody tr th:only-of-type {\n",
       "        vertical-align: middle;\n",
       "    }\n",
       "\n",
       "    .dataframe tbody tr th {\n",
       "        vertical-align: top;\n",
       "    }\n",
       "\n",
       "    .dataframe thead th {\n",
       "        text-align: right;\n",
       "    }\n",
       "</style>\n",
       "<table border=\"1\" class=\"dataframe\">\n",
       "  <thead>\n",
       "    <tr style=\"text-align: right;\">\n",
       "      <th></th>\n",
       "      <th>movieId</th>\n",
       "      <th>title</th>\n",
       "      <th>genres</th>\n",
       "    </tr>\n",
       "  </thead>\n",
       "  <tbody>\n",
       "    <tr>\n",
       "      <th>0</th>\n",
       "      <td>1</td>\n",
       "      <td>Toy Story (1995)</td>\n",
       "      <td>Adventure|Animation|Children|Comedy|Fantasy</td>\n",
       "    </tr>\n",
       "    <tr>\n",
       "      <th>1</th>\n",
       "      <td>2</td>\n",
       "      <td>Jumanji (1995)</td>\n",
       "      <td>Adventure|Children|Fantasy</td>\n",
       "    </tr>\n",
       "    <tr>\n",
       "      <th>2</th>\n",
       "      <td>3</td>\n",
       "      <td>Grumpier Old Men (1995)</td>\n",
       "      <td>Comedy|Romance</td>\n",
       "    </tr>\n",
       "    <tr>\n",
       "      <th>3</th>\n",
       "      <td>4</td>\n",
       "      <td>Waiting to Exhale (1995)</td>\n",
       "      <td>Comedy|Drama|Romance</td>\n",
       "    </tr>\n",
       "    <tr>\n",
       "      <th>4</th>\n",
       "      <td>5</td>\n",
       "      <td>Father of the Bride Part II (1995)</td>\n",
       "      <td>Comedy</td>\n",
       "    </tr>\n",
       "  </tbody>\n",
       "</table>\n",
       "</div>"
      ],
      "text/plain": [
       "   movieId                               title  \\\n",
       "0        1                    Toy Story (1995)   \n",
       "1        2                      Jumanji (1995)   \n",
       "2        3             Grumpier Old Men (1995)   \n",
       "3        4            Waiting to Exhale (1995)   \n",
       "4        5  Father of the Bride Part II (1995)   \n",
       "\n",
       "                                        genres  \n",
       "0  Adventure|Animation|Children|Comedy|Fantasy  \n",
       "1                   Adventure|Children|Fantasy  \n",
       "2                               Comedy|Romance  \n",
       "3                         Comedy|Drama|Romance  \n",
       "4                                       Comedy  "
      ]
     },
     "execution_count": 3,
     "metadata": {},
     "output_type": "execute_result"
    }
   ],
   "source": [
    "movie.head()"
   ]
  },
  {
   "cell_type": "markdown",
   "metadata": {},
   "source": [
    "### Preprocessing - Item Features"
   ]
  },
  {
   "cell_type": "code",
   "execution_count": 4,
   "metadata": {},
   "outputs": [
    {
     "name": "stdout",
     "output_type": "stream",
     "text": [
      "Big Bang Theory, The (2007-)\n",
      "Fawlty Towers (1975-1979)\n",
      "Hyena Road\n",
      "The Lovers and the Despot\n",
      "Stranger Things\n",
      "Women of '69, Unboxed\n"
     ]
    }
   ],
   "source": [
    "# extract year\n",
    "def extract_year(s):\n",
    "    try:\n",
    "        return int(re.findall('\\(([0-9]+)\\)', s)[-1])\n",
    "    except:\n",
    "        print(s)\n",
    "        return 'UNKNOWN'\n",
    "movie['year'] = movie.title.apply(lambda x: extract_year(x))"
   ]
  },
  {
   "cell_type": "code",
   "execution_count": 5,
   "metadata": {},
   "outputs": [],
   "source": [
    "# manually impute year\n",
    "years = {\"Big Bang Theory, The (2007-)\": 2010,\n",
    "\"Fawlty Towers (1975-1979)\": 1970,\n",
    "\"Hyena Road\": 2010,\n",
    "\"The Lovers and the Despot\": 2016,\n",
    "\"Stranger Things\": 2010,\n",
    "\"Women of '69, Unboxed\": 2010}\n",
    "\n",
    "for ix, row in movie.iterrows():\n",
    "    if row['title'] in years:\n",
    "        movie.at[ix, 'year'] = years[row['title']]"
   ]
  },
  {
   "cell_type": "code",
   "execution_count": 6,
   "metadata": {},
   "outputs": [],
   "source": [
    "# convert year to decades\n",
    "movie['decade'] = movie['year'].apply(lambda x: math.floor(x/10)*10)"
   ]
  },
  {
   "cell_type": "code",
   "execution_count": 7,
   "metadata": {},
   "outputs": [],
   "source": [
    "# extract genre\n",
    "movie['genres'] = movie['genres'].replace('(no genres listed)', \"NULL\")\n",
    "movie['genres'] = movie['genres'].apply(lambda x: x.split(\"|\"))"
   ]
  },
  {
   "cell_type": "code",
   "execution_count": 8,
   "metadata": {},
   "outputs": [],
   "source": [
    "# combine all features & one-hot-encode\n",
    "movie_features = movie.apply(lambda x: x['genres'] + [x['decade']], axis=1)\n",
    "all_movie_features = set([f for features in movie_features for f in features])"
   ]
  },
  {
   "cell_type": "code",
   "execution_count": 9,
   "metadata": {},
   "outputs": [],
   "source": [
    "# convert movieId\n",
    "movie_id_mapping = {i:ix for ix, i in enumerate(movie.movieId)}\n",
    "movie['movieId'] = movie['movieId'].apply(lambda x: movie_id_mapping[x])"
   ]
  },
  {
   "cell_type": "markdown",
   "metadata": {},
   "source": [
    "### Preprocessing - User-Item Interaction"
   ]
  },
  {
   "cell_type": "code",
   "execution_count": 10,
   "metadata": {},
   "outputs": [],
   "source": [
    "# map movieid & userid to new ids\n",
    "user_id_mapping = {i:ix for ix, i in enumerate(rating.userId.unique())}\n",
    "rating['userId'] = rating['userId'].apply(lambda x: user_id_mapping[x])\n",
    "rating['movieId'] = rating['movieId'].apply(lambda x: movie_id_mapping[x])"
   ]
  },
  {
   "cell_type": "code",
   "execution_count": 11,
   "metadata": {},
   "outputs": [],
   "source": [
    "# convert explicit rating to implicit feedback\n",
    "threshold = 3\n",
    "rating['rating'] = rating['rating'].apply(lambda x: 0 if x < threshold else 1) "
   ]
  },
  {
   "cell_type": "markdown",
   "metadata": {},
   "source": [
    "# Build dataset - Interaction Matrix, Feature Matrix"
   ]
  },
  {
   "cell_type": "code",
   "execution_count": 12,
   "metadata": {},
   "outputs": [],
   "source": [
    "from lightfm.data import Dataset\n",
    "\n",
    "dataset = Dataset()\n",
    "dataset.fit(\n",
    "    users=set(rating['userId']),\n",
    "    items=movie_id_mapping.values(),\n",
    "    item_features=all_movie_features\n",
    ")\n"
   ]
  },
  {
   "cell_type": "code",
   "execution_count": 13,
   "metadata": {},
   "outputs": [],
   "source": [
    "# build interactions matrix from (user_id, item_id) or (user_id, item_id, weight)\n",
    "iteraction_tuples = rating[rating['rating']==1][['userId', 'movieId']].apply(tuple, axis=1).to_list()\n",
    "interactions, weights = dataset.build_interactions(iteraction_tuples)"
   ]
  },
  {
   "cell_type": "code",
   "execution_count": 14,
   "metadata": {},
   "outputs": [],
   "source": [
    "# build item features from (item id, [list of feature names]) or (item id, {feature name: feature weight})\n",
    "feature_tuples = list(enumerate(movie_features))\n",
    "item_features = dataset.build_item_features(feature_tuples)"
   ]
  },
  {
   "cell_type": "markdown",
   "metadata": {},
   "source": [
    "# Model"
   ]
  },
  {
   "cell_type": "markdown",
   "metadata": {},
   "source": [
    "- besides classic optimization algorithms (SGD, ALS), LightFM implements **BPR (Bayesian Personalized Ranking) and WARP (Weighted Approximate-Rank Pairwise) loss**, which are particularly well suited for implicit feedback learning-to-rank task\n",
    "- WARP algorithm:\n",
    "  - for a given user, sample a negative item & positive item\n",
    "  - compute predictions for both\n",
    "  - if y_pred of the negative item > positive item, update gradients\n",
    "  - optimization:\n",
    "    - if found violation early: large gradient update & decrement gradually;\n",
    "- BPR algorithm\n",
    "  - for a given user, sample a negative item & positive item\n",
    "  - compute predictions for both\n",
    "  - compute the difference between the predictions (scores)\n",
    "  - pass the difference to a sigmoid function and use it as a weight for gradient update via SGD"
   ]
  },
  {
   "cell_type": "code",
   "execution_count": 15,
   "metadata": {},
   "outputs": [
    {
     "name": "stderr",
     "output_type": "stream",
     "text": [
      "Epoch: 100%|██████████| 20/20 [00:08<00:00,  2.41it/s]\n"
     ]
    },
    {
     "data": {
      "text/plain": [
       "<lightfm.lightfm.LightFM at 0x7fc160d213a0>"
      ]
     },
     "execution_count": 15,
     "metadata": {},
     "output_type": "execute_result"
    }
   ],
   "source": [
    "model = LightFM(\n",
    "    no_components=200, # embedding dims\n",
    "    learning_rate=0.05,\n",
    "    loss='warp'    \n",
    ")\n",
    "\n",
    "model.fit(interactions, \n",
    "          item_features=item_features,\n",
    "          epochs=20,\n",
    "          num_threads=4,\n",
    "          verbose=True)"
   ]
  },
  {
   "cell_type": "markdown",
   "metadata": {},
   "source": [
    "# Evaluation"
   ]
  },
  {
   "cell_type": "markdown",
   "metadata": {},
   "source": [
    "roc/auc: the probability that a randomly chosen positive example has a higher score than a randomly chosen negative example."
   ]
  },
  {
   "cell_type": "code",
   "execution_count": 16,
   "metadata": {},
   "outputs": [],
   "source": [
    "from lightfm.evaluation import auc_score"
   ]
  },
  {
   "cell_type": "code",
   "execution_count": 17,
   "metadata": {},
   "outputs": [],
   "source": [
    "auc_scores = auc_score(model, \n",
    "                    test_interactions=interactions, \n",
    "                    item_features=item_features,\n",
    "                    num_threads=4)"
   ]
  },
  {
   "cell_type": "code",
   "execution_count": 18,
   "metadata": {},
   "outputs": [
    {
     "data": {
      "text/plain": [
       "671"
      ]
     },
     "execution_count": 18,
     "metadata": {},
     "output_type": "execute_result"
    }
   ],
   "source": [
    "# auc scores for every user\n",
    "# if no interaction for the user, then auc=0.5, i.e. random guessing\n",
    "len(auc_scores)"
   ]
  },
  {
   "cell_type": "code",
   "execution_count": 19,
   "metadata": {},
   "outputs": [
    {
     "data": {
      "text/plain": [
       "0.98133314"
      ]
     },
     "execution_count": 19,
     "metadata": {},
     "output_type": "execute_result"
    }
   ],
   "source": [
    "# mean auc\n",
    "np.mean(auc_scores)"
   ]
  },
  {
   "cell_type": "markdown",
   "metadata": {},
   "source": [
    "# Prediction"
   ]
  },
  {
   "cell_type": "code",
   "execution_count": 20,
   "metadata": {},
   "outputs": [],
   "source": [
    "def recommend(user_id, n_sample=5):\n",
    "    pred_scores = model.predict(\n",
    "                        user_ids = user_id,\n",
    "                        item_ids=np.array(list(movie_id_mapping.values())),\n",
    "                        item_features=item_features)\n",
    "    # user's watch history\n",
    "    watched_ix = rating[(rating['userId']==user_id)&(rating['rating']==1)]['movieId']\n",
    "    watched_ix = watched_ix.sample(min(n_sample, len(watched_ix)))\n",
    "    watched = movie[movie['movieId'].isin(watched_ix)][['movieId', 'title']]\n",
    "    # recommend items that the user has not seen & with high predicted scores\n",
    "    rec_movie_id = np.argsort(pred_scores)[::-1][[i for i in range(len(pred_scores)) if i not in watched_ix]][:n_sample]\n",
    "    recommended = pd.DataFrame({\n",
    "                                'movieId':rec_movie_id,\n",
    "                                'title': movie['title'][rec_movie_id],\n",
    "                                'pred_score':pred_scores[rec_movie_id]\n",
    "                                })\n",
    "    return watched, recommended\n",
    "    "
   ]
  },
  {
   "cell_type": "code",
   "execution_count": 21,
   "metadata": {},
   "outputs": [
    {
     "data": {
      "text/plain": [
       "userId\n",
       "578     4\n",
       "34      7\n",
       "428     7\n",
       "0       8\n",
       "324     8\n",
       "309     8\n",
       "336    10\n",
       "603    11\n",
       "169    12\n",
       "28     12\n",
       "Name: rating, dtype: int64"
      ]
     },
     "execution_count": 21,
     "metadata": {},
     "output_type": "execute_result"
    }
   ],
   "source": [
    "# find out users that have very little interaction data\n",
    "rating[rating['rating']==1].groupby('userId').count().sort_values('rating')['rating'].head(10)\n"
   ]
  },
  {
   "cell_type": "code",
   "execution_count": 22,
   "metadata": {},
   "outputs": [
    {
     "name": "stdout",
     "output_type": "stream",
     "text": [
      "Watched\n",
      "------------------------------------------------------------------------\n",
      "      movieId                                              title\n",
      "2062     2062                                 Matrix, The (1999)\n",
      "3367     3367                                     Memento (2000)\n",
      "6788     6788                              Game Plan, The (2007)\n",
      "7936     7936  Twilight Saga: Breaking Dawn - Part 1, The (2011)\n",
      "Recommended\n",
      "------------------------------------------------------------------------\n",
      "      movieId                                              title  pred_score\n",
      "4395     4395      Lord of the Rings: The Two Towers, The (2002)    2.866094\n",
      "3856     3856  Amelie (Fabuleux destin d'Amélie Poulain, Le) ...    2.717700\n",
      "3871     3871  Lord of the Rings: The Fellowship of the Ring,...    2.708966\n",
      "5127     5127       Eternal Sunshine of the Spotless Mind (2004)    2.663655\n",
      "5026     5026  Lord of the Rings: The Return of the King, The...    2.605367\n"
     ]
    }
   ],
   "source": [
    "watched, recommended = recommend(578, n_sample=5)\n",
    "print(\"Watched\")\n",
    "print(\"------------------------------------------------------------------------\")\n",
    "print(watched)\n",
    "print(\"Recommended\")\n",
    "print(\"------------------------------------------------------------------------\")\n",
    "print(recommended)"
   ]
  },
  {
   "cell_type": "code",
   "execution_count": 23,
   "metadata": {},
   "outputs": [
    {
     "name": "stdout",
     "output_type": "stream",
     "text": [
      "Watched\n",
      "------------------------------------------------------------------------\n",
      "      movieId                                              title\n",
      "219       219                          Heavenly Creatures (1994)\n",
      "416       416  Englishman Who Went Up a Hill But Came Down a ...\n",
      "1665     1665                                        Tron (1982)\n",
      "1801     1801                                       Ronin (1998)\n",
      "1811     1811                                 Player, The (1992)\n",
      "Recommended\n",
      "------------------------------------------------------------------------\n",
      "      movieId                                              title  pred_score\n",
      "535       535                                       Fargo (1996)    3.667782\n",
      "406       406                               Fugitive, The (1993)    3.451589\n",
      "1288     1288                           L.A. Confidential (1997)    3.394264\n",
      "955       955  Raiders of the Lost Ark (Indiana Jones and the...    3.165970\n",
      "266       266                                Pulp Fiction (1994)    3.070876\n"
     ]
    }
   ],
   "source": [
    "watched, recommended = recommend(34, n_sample=5)\n",
    "print(\"Watched\")\n",
    "print(\"------------------------------------------------------------------------\")\n",
    "print(watched)\n",
    "print(\"Recommended\")\n",
    "print(\"------------------------------------------------------------------------\")\n",
    "print(recommended)\n"
   ]
  }
 ],
 "metadata": {
  "kernelspec": {
   "display_name": "Python 3.9.12 ('base')",
   "language": "python",
   "name": "python3"
  },
  "language_info": {
   "codemirror_mode": {
    "name": "ipython",
    "version": 3
   },
   "file_extension": ".py",
   "mimetype": "text/x-python",
   "name": "python",
   "nbconvert_exporter": "python",
   "pygments_lexer": "ipython3",
   "version": "3.9.12"
  },
  "orig_nbformat": 4,
  "vscode": {
   "interpreter": {
    "hash": "2d59829e856ecc8da3b928adad583801194efdadc7aa71fa7c39d3d39c851f1a"
   }
  }
 },
 "nbformat": 4,
 "nbformat_minor": 2
}
